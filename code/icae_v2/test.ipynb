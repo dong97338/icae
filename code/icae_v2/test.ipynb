{
 "cells": [
  {
   "cell_type": "code",
   "execution_count": 3,
   "metadata": {},
   "outputs": [
    {
     "ename": "IndentationError",
     "evalue": "unexpected indent (654402552.py, line 31)",
     "output_type": "error",
     "traceback": [
      "\u001b[0;36m  Cell \u001b[0;32mIn[3], line 31\u001b[0;36m\u001b[0m\n\u001b[0;31m    data = json.loads(line.strip())\u001b[0m\n\u001b[0m    ^\u001b[0m\n\u001b[0;31mIndentationError\u001b[0m\u001b[0;31m:\u001b[0m unexpected indent\n"
     ]
    }
   ],
   "source": [
    "import json\n",
    "\n",
    "input_file = \"plug.jsonl\"\n",
    "output_file = \"plug_combined.jsonl\"\n",
    "\n",
    "# 입력 파일 열기 및 처리\n",
    "with open(input_file, 'r', encoding='utf-8') as infile, open(output_file, 'w', encoding='utf-8') as outfile:\n",
    "    for line in infile:import json\n",
    "\n",
    "input_file = \"plug.jsonl\"\n",
    "output_file = \"text_only.jsonl\"\n",
    "\n",
    "# 입력 파일 열기 및 처리\n",
    "with open(input_file, 'r', encoding='utf-8') as infile, open(output_file, 'w', encoding='utf-8') as outfile:\n",
    "    for line in infile:\n",
    "        # 각 줄을 JSON으로 파싱\n",
    "        data = json.loads(line.strip())\n",
    "        \n",
    "        # input과 output을 합쳐 text 생성\n",
    "        combined_text = f\"{data['input']} {data['output']}\"\n",
    "        \n",
    "        # 새 JSON 객체 생성 (text 키만 포함)\n",
    "        new_data = {\"text\": combined_text}\n",
    "        \n",
    "        # JSONL 형식으로 출력 파일에 저장\n",
    "        outfile.write(json.dumps(new_data, ensure_ascii=False) + '\\n')\n",
    "\n",
    "print(f\"결과가 {output_file}에 저장되었습니다.\")\n",
    "\n",
    "        # 각 줄을 JSON으로 파싱\n",
    "        data = json.loads(line.strip())\n",
    "        \n",
    "        # input과 output을 합쳐 text 생성\n",
    "        combined_text = f\"{data['input']} {data['output']}\"\n",
    "        \n",
    "        # 새로운 데이터에 text 추가\n",
    "        data['text'] = combined_text\n",
    "        \n",
    "        # JSONL 형식으로 출력 파일에 저장\n",
    "        outfile.write(json.dumps(data, ensure_ascii=False) + '\\n')\n",
    "\n",
    "print(f\"결과가 {output_file}에 저장되었습니다.\")\n"
   ]
  }
 ],
 "metadata": {
  "kernelspec": {
   "display_name": "Python 3 (ipykernel)",
   "language": "python",
   "name": "python3"
  },
  "language_info": {
   "codemirror_mode": {
    "name": "ipython",
    "version": 3
   },
   "file_extension": ".py",
   "mimetype": "text/x-python",
   "name": "python",
   "nbconvert_exporter": "python",
   "pygments_lexer": "ipython3",
   "version": "3.11.10"
  }
 },
 "nbformat": 4,
 "nbformat_minor": 2
}
