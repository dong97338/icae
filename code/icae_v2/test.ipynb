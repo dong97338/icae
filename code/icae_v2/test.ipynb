{
 "cells": [
  {
   "cell_type": "code",
   "execution_count": 3,
   "metadata": {},
   "outputs": [
    {
     "ename": "IndentationError",
     "evalue": "unexpected indent (654402552.py, line 31)",
     "output_type": "error",
     "traceback": [
      "\u001b[0;36m  Cell \u001b[0;32mIn[3], line 31\u001b[0;36m\u001b[0m\n\u001b[0;31m    data = json.loads(line.strip())\u001b[0m\n\u001b[0m    ^\u001b[0m\n\u001b[0;31mIndentationError\u001b[0m\u001b[0;31m:\u001b[0m unexpected indent\n"
     ]
    }
   ],
   "source": [
    "import json\n",
    "\n",
    "input_file, train_file, eval_file = \"plug.jsonl\", \"train.jsonl\", \"eval.jsonl\"\n",
    "lines = open(input_file, 'r', encoding='utf-8').readlines()\n",
    "split_idx = int(len(lines) * 0.8)\n",
    "\n",
    "for fname, data in [(train_file, lines[:split_idx]), (eval_file, lines[split_idx:])]:\n",
    "    with open(fname, 'w', encoding='utf-8') as f:\n",
    "        f.writelines(json.dumps({\"text\": f\"{json.loads(line)['input']} {json.loads(line)['output']}\"}, ensure_ascii=False) + '\\n' for line in data)\n",
    "\n",
    "print(f\"train: {train_file}, eval: {eval_file} 저장 완료.\")\n"
   ]
  },
  {
   "cell_type": "code",
   "execution_count": 2,
   "metadata": {},
   "outputs": [
    {
     "ename": "AttributeError",
     "evalue": "'bytes' object has no attribute 'encode'",
     "output_type": "error",
     "traceback": [
      "\u001b[0;31m---------------------------------------------------------------------------\u001b[0m",
      "\u001b[0;31mAttributeError\u001b[0m                            Traceback (most recent call last)",
      "Cell \u001b[0;32mIn[2], line 3\u001b[0m\n\u001b[1;32m      1\u001b[0m input_text \u001b[38;5;241m=\u001b[39m \u001b[38;5;124mb\u001b[39m\u001b[38;5;124m\"\u001b[39m\u001b[38;5;124m \u001b[39m\u001b[38;5;124m\\\u001b[39m\u001b[38;5;124mu00a0The text below is a multiple-choice question about medical knowledge. Please interpret the question in English, and then provide the final answer in the language the user has used. Solve the question in a step-by-step fashion, starting from the available information. Output a single option from the given output as the final answer. You are strongly required to follow the specified output format; choose the option with the phrase \u001b[39m\u001b[38;5;130;01m\\\"\u001b[39;00m\u001b[38;5;124manswer is [option_answer] [(the response index)]\u001b[39m\u001b[38;5;130;01m\\\"\u001b[39;00m\u001b[38;5;124m.\u001b[39m\u001b[38;5;130;01m\\\\\u001b[39;00m\u001b[38;5;124mn\u001b[39m\u001b[38;5;130;01m\\\\\u001b[39;00m\u001b[38;5;124mn26-year-old male is 1 month post-gastritis, \u001b[39m\u001b[38;5;124m\\\u001b[39m\u001b[38;5;124muc194\u001b[39m\u001b[38;5;124m\\\u001b[39m\u001b[38;5;124mud53c\u001b[39m\u001b[38;5;124m\\\u001b[39m\u001b[38;5;124muac00 \u001b[39m\u001b[38;5;124m\\\u001b[39m\u001b[38;5;124mud53c\u001b[39m\u001b[38;5;124m\\\u001b[39m\u001b[38;5;124mubd80\u001b[39m\u001b[38;5;124m\\\u001b[39m\u001b[38;5;124muc5d0\u001b[39m\u001b[38;5;124m\\\u001b[39m\u001b[38;5;124muc11c 2~3\u001b[39m\u001b[38;5;124m\\\u001b[39m\u001b[38;5;124mubc88 \u001b[39m\u001b[38;5;124m\\\u001b[39m\u001b[38;5;124muc18c\u001b[39m\u001b[38;5;124m\\\u001b[39m\u001b[38;5;124muad00\u001b[39m\u001b[38;5;124m\\\u001b[39m\u001b[38;5;124muc18c\u001b[39m\u001b[38;5;124m\\\u001b[39m\u001b[38;5;124mub85c \u001b[39m\u001b[38;5;124m\\\u001b[39m\u001b[38;5;124muc18c\u001b[39m\u001b[38;5;124m\\\u001b[39m\u001b[38;5;124muad00\u001b[39m\u001b[38;5;124m\\\u001b[39m\u001b[38;5;124muc18c\u001b[39m\u001b[38;5;124m\\\u001b[39m\u001b[38;5;124muac00 \u001b[39m\u001b[38;5;124m\\\u001b[39m\u001b[38;5;124muc788\u001b[39m\u001b[38;5;124m\\\u001b[39m\u001b[38;5;124mub2e4\u001b[39m\u001b[38;5;124m\\\u001b[39m\u001b[38;5;124muace0 \u001b[39m\u001b[38;5;124m\\\u001b[39m\u001b[38;5;124mud574\u001b[39m\u001b[38;5;124m\\\u001b[39m\u001b[38;5;124muba85\u001b[39m\u001b[38;5;124m\\\u001b[39m\u001b[38;5;124mud588\u001b[39m\u001b[38;5;124m\\\u001b[39m\u001b[38;5;124muc2b5\u001b[39m\u001b[38;5;124m\\\u001b[39m\u001b[38;5;124mub2c8\u001b[39m\u001b[38;5;124m\\\u001b[39m\u001b[38;5;124mub2e4. \u001b[39m\u001b[38;5;124m\\\u001b[39m\u001b[38;5;124muc220\u001b[39m\u001b[38;5;124m\\\u001b[39m\u001b[38;5;124muc744 \u001b[39m\u001b[38;5;124m\\\u001b[39m\u001b[38;5;124muc790\u001b[39m\u001b[38;5;124m\\\u001b[39m\u001b[38;5;124muc8fc \u001b[39m\u001b[38;5;124m\\\u001b[39m\u001b[38;5;124mub9c8\u001b[39m\u001b[38;5;124m\\\u001b[39m\u001b[38;5;124muc2dc\u001b[39m\u001b[38;5;124m\\\u001b[39m\u001b[38;5;124muba70, \u001b[39m\u001b[38;5;124m\\\u001b[39m\u001b[38;5;124muc591\u001b[39m\u001b[38;5;124m\\\u001b[39m\u001b[38;5;124muc870\u001b[39m\u001b[38;5;124m\\\u001b[39m\u001b[38;5;124mub97c \u001b[39m\u001b[38;5;124m\\\u001b[39m\u001b[38;5;124mubcf5\u001b[39m\u001b[38;5;124m\\\u001b[39m\u001b[38;5;124muc6a9\u001b[39m\u001b[38;5;124m\\\u001b[39m\u001b[38;5;124mud558\u001b[39m\u001b[38;5;124m\\\u001b[39m\u001b[38;5;124muc5ec \u001b[39m\u001b[38;5;124m\\\u001b[39m\u001b[38;5;124muc808 \u001b[39m\u001b[38;5;124m\\\u001b[39m\u001b[38;5;124muc5c6\u001b[39m\u001b[38;5;124m\\\u001b[39m\u001b[38;5;124muc774 \u001b[39m\u001b[38;5;124m\\\u001b[39m\u001b[38;5;124muc18c\u001b[39m\u001b[38;5;124m\\\u001b[39m\u001b[38;5;124muad00\u001b[39m\u001b[38;5;124m\\\u001b[39m\u001b[38;5;124muc18c\u001b[39m\u001b[38;5;124m\\\u001b[39m\u001b[38;5;124muac00 \u001b[39m\u001b[38;5;124m\\\u001b[39m\u001b[38;5;124muc788\u001b[39m\u001b[38;5;124m\\\u001b[39m\u001b[38;5;124mub2e4\u001b[39m\u001b[38;5;124m\\\u001b[39m\u001b[38;5;124muace0 \u001b[39m\u001b[38;5;124m\\\u001b[39m\u001b[38;5;124mud574\u001b[39m\u001b[38;5;124m\\\u001b[39m\u001b[38;5;124muba85\u001b[39m\u001b[38;5;124m\\\u001b[39m\u001b[38;5;124mud588\u001b[39m\u001b[38;5;124m\\\u001b[39m\u001b[38;5;124muc2b5\u001b[39m\u001b[38;5;124m\\\u001b[39m\u001b[38;5;124mub2c8\u001b[39m\u001b[38;5;124m\\\u001b[39m\u001b[38;5;124mub2e4. \u001b[39m\u001b[38;5;124m\\\u001b[39m\u001b[38;5;124mud608\u001b[39m\u001b[38;5;124m\\\u001b[39m\u001b[38;5;124muc555 100 mmHg, \u001b[39m\u001b[38;5;124m\\\u001b[39m\u001b[38;5;124mud608\u001b[39m\u001b[38;5;124m\\\u001b[39m\u001b[38;5;124mub2f9 70 mg/dL, \u001b[39m\u001b[38;5;124m\\\u001b[39m\u001b[38;5;124mud608\u001b[39m\u001b[38;5;124m\\\u001b[39m\u001b[38;5;124muc561 \u001b[39m\u001b[38;5;124m\\\u001b[39m\u001b[38;5;124mud638\u001b[39m\u001b[38;5;124m\\\u001b[39m\u001b[38;5;124mud761 47\u001b[39m\u001b[38;5;124m%\u001b[39m\u001b[38;5;124m, \u001b[39m\u001b[38;5;124m\\\u001b[39m\u001b[38;5;124mud608\u001b[39m\u001b[38;5;124m\\\u001b[39m\u001b[38;5;124muc561 \u001b[39m\u001b[38;5;124m\\\u001b[39m\u001b[38;5;124mud761\u001b[39m\u001b[38;5;124m\\\u001b[39m\u001b[38;5;124mucc29 23\u001b[39m\u001b[38;5;124m%\u001b[39m\u001b[38;5;124m, \u001b[39m\u001b[38;5;124m\\\u001b[39m\u001b[38;5;124mud638\u001b[39m\u001b[38;5;124m\\\u001b[39m\u001b[38;5;124mud761 70/min, \u001b[39m\u001b[38;5;124m\\\u001b[39m\u001b[38;5;124muc5d0\u001b[39m\u001b[38;5;124m\\\u001b[39m\u001b[38;5;124mub9ac\u001b[39m\u001b[38;5;124m\\\u001b[39m\u001b[38;5;124mu0442\u001b[39m\u001b[38;5;124m\\\u001b[39m\u001b[38;5;124mu0440\u001b[39m\u001b[38;5;124m\\\u001b[39m\u001b[38;5;124mu043e\u001b[39m\u001b[38;5;124m\\\u001b[39m\u001b[38;5;124muc288 13.5 g/dL, \u001b[39m\u001b[38;5;124m\\\u001b[39m\u001b[38;5;124mud608\u001b[39m\u001b[38;5;124m\\\u001b[39m\u001b[38;5;124muc561 \u001b[39m\u001b[38;5;124m\\\u001b[39m\u001b[38;5;124muc18c\u001b[39m\u001b[38;5;124m\\\u001b[39m\u001b[38;5;124muad00\u001b[39m\u001b[38;5;124m\\\u001b[39m\u001b[38;5;124muc18c 10 \u001b[39m\u001b[38;5;124m\\\u001b[39m\u001b[38;5;124mu00b5m\u001b[39m\u001b[38;5;124m\\\u001b[39m\u001b[38;5;124mu00b3, \u001b[39m\u001b[38;5;124m\\\u001b[39m\u001b[38;5;124mud06c\u001b[39m\u001b[38;5;124m\\\u001b[39m\u001b[38;5;124mub9ac\u001b[39m\u001b[38;5;124m\\\u001b[39m\u001b[38;5;124muc544 1.7 mg/dL, Na+/K+/Cl- 130/98/4.3 meq/L, \u001b[39m\u001b[38;5;124m\\\u001b[39m\u001b[38;5;124muc544\u001b[39m\u001b[38;5;124m\\\u001b[39m\u001b[38;5;124muc2a4\u001b[39m\u001b[38;5;124m\\\u001b[39m\u001b[38;5;124mud14c\u001b[39m\u001b[38;5;124m\\\u001b[39m\u001b[38;5;124mud2f8\u001b[39m\u001b[38;5;124m\\\u001b[39m\u001b[38;5;124mub9b0 30 mg/dL, \u001b[39m\u001b[38;5;124m\\\u001b[39m\u001b[38;5;124muc2a4\u001b[39m\u001b[38;5;124m\\\u001b[39m\u001b[38;5;124mud2b8\u001b[39m\u001b[38;5;124m\\\u001b[39m\u001b[38;5;124mub808\u001b[39m\u001b[38;5;124m\\\u001b[39m\u001b[38;5;124mud3ec\u001b[39m\u001b[38;5;124m\\\u001b[39m\u001b[38;5;124mud2f8\u001b[39m\u001b[38;5;124m\\\u001b[39m\u001b[38;5;124mub9b0 12 U/dL, Na+/K+/Cl- 130/98/4.3 meq/L, \u001b[39m\u001b[38;5;124m\\\u001b[39m\u001b[38;5;124muc544\u001b[39m\u001b[38;5;124m\\\u001b[39m\u001b[38;5;124muc2a4\u001b[39m\u001b[38;5;124m\\\u001b[39m\u001b[38;5;124mud14c\u001b[39m\u001b[38;5;124m\\\u001b[39m\u001b[38;5;124mud2f8\u001b[39m\u001b[38;5;124m\\\u001b[39m\u001b[38;5;124mub9b0 30 mg/dL, \u001b[39m\u001b[38;5;124m\\\u001b[39m\u001b[38;5;124muc2a4\u001b[39m\u001b[38;5;124m\\\u001b[39m\u001b[38;5;124mud2b8\u001b[39m\u001b[38;5;124m\\\u001b[39m\u001b[38;5;124mub808\u001b[39m\u001b[38;5;124m\\\u001b[39m\u001b[38;5;124mud3ec\u001b[39m\u001b[38;5;124m\\\u001b[39m\u001b[38;5;124mud2f8\u001b[39m\u001b[38;5;124m\\\u001b[39m\u001b[38;5;124mub9b0 12 U/dL, \u001b[39m\u001b[38;5;124m\\\u001b[39m\u001b[38;5;124muc544\u001b[39m\u001b[38;5;124m\\\u001b[39m\u001b[38;5;124muc2a4\u001b[39m\u001b[38;5;124m\\\u001b[39m\u001b[38;5;124mud14c\u001b[39m\u001b[38;5;124m\\\u001b[39m\u001b[38;5;124mud2f8\u001b[39m\u001b[38;5;124m\\\u001b[39m\u001b[38;5;124mub9b0 30 mg/dL, \u001b[39m\u001b[38;5;124m\\\u001b[39m\u001b[38;5;124muc2a4\u001b[39m\u001b[38;5;124m\\\u001b[39m\u001b[38;5;124mud2b8\u001b[39m\u001b[38;5;124m\\\u001b[39m\u001b[38;5;124mub808\u001b[39m\u001b[38;5;124m\\\u001b[39m\u001b[38;5;124mud3ec\u001b[39m\u001b[38;5;124m\\\u001b[39m\u001b[38;5;124mud2f8\u001b[39m\u001b[38;5;124m\\\u001b[39m\u001b[38;5;124mub9b0 12 U/dL, \u001b[39m\u001b[38;5;124m\\\u001b[39m\u001b[38;5;124muc544\u001b[39m\u001b[38;5;124m\\\u001b[39m\u001b[38;5;124muc2a4\u001b[39m\u001b[38;5;124m\\\u001b[39m\u001b[38;5;124mud14c\u001b[39m\u001b[38;5;124m\\\u001b[39m\u001b[38;5;124mud2f8\u001b[39m\u001b[38;5;124m\\\u001b[39m\u001b[38;5;124mub9b0 30 mg/dL, \u001b[39m\u001b[38;5;124m\\\u001b[39m\u001b[38;5;124muc2a4\u001b[39m\u001b[38;5;124m\\\u001b[39m\u001b[38;5;124mud2b8\u001b[39m\u001b[38;5;124m\\\u001b[39m\u001b[38;5;124mub808\u001b[39m\u001b[38;5;124m\\\u001b[39m\u001b[38;5;124mud3ec\u001b[39m\u001b[38;5;124m\\\u001b[39m\u001b[38;5;124mud2f8\u001b[39m\u001b[38;5;124m\\\u001b[39m\u001b[38;5;124mub9b0 12 U/dL\u001b[39m\u001b[38;5;124m\"\u001b[39m\n\u001b[0;32m----> 3\u001b[0m decoded_str \u001b[38;5;241m=\u001b[39m \u001b[43minput_text\u001b[49m\u001b[38;5;241;43m.\u001b[39;49m\u001b[43mencode\u001b[49m(\u001b[38;5;124m'\u001b[39m\u001b[38;5;124mutf-8\u001b[39m\u001b[38;5;124m'\u001b[39m)\u001b[38;5;241m.\u001b[39mdecode(\u001b[38;5;124m'\u001b[39m\u001b[38;5;124municode_escape\u001b[39m\u001b[38;5;124m'\u001b[39m)\n\u001b[1;32m      4\u001b[0m \u001b[38;5;28mprint\u001b[39m(decoded_str)\n",
      "\u001b[0;31mAttributeError\u001b[0m: 'bytes' object has no attribute 'encode'"
     ]
    }
   ],
   "source": [
    "input_text = \"<s> \\u00a0The text that follows is a multiple-choice question about medical knowledge. Please interpret the question in English, and then provide the final answer in the language used by the patient. Solve the question in a step-by-step fashion, starting from the available options. Output a single summary of the given information by using the final answer as the conclusion. \\\\n\\\\n4. \\ub124\\uc138\\uc694 \\ubc1c\\ubcc0\\uc744 \\ubcf4\\uace0 \\ubcd1\\uc6d0\\uc5d0 \\ubc29\\ubb38\\ud558\\uc5ec [\\ud55c\\ubcc0\\uc758 \\uacb0\\uacfc] \\uc194\\uc9c1\\ud788 \\ub2f5\\ubcc0\\uc744 \\uc8fc\\uba74 \\ubcc0\\uc774 \\uc788\\ub2e4\\uace0 \\uc0dd\\uac01\\ud569\\ub2c8\\ub2e4. 1\\uac1c\\uc6d4 \\uc804\\ubd80\\ud130 \\ubcf5\\ud1b5\\uc774 1\\uc8fc\\uc77c \\ub2e8\\uc704\\ub85c \\ub098\\ud0c0\\uc6c0 \\uadf8\\ub9ac\\uace0 \\ubcc0\\uc774 \\uc788\\ub2e4\\uace0 \\uc8fc\\uc7a5\\ud558\\uc600\\uc2b5\\ub2c8\\ub2e4. \\ubcf5\\ud1b5\\uc740 \\uc5c6\\uc73c\\ub098 1\\uc8fc\\uc77c \\ub2e8\\uc704\\ub85c \\ubcc0\\uc774 \\uc788\\ub2e4\\uace0 \\ud574\\uc57c \\ud560 \\uac83\\uc774\\uba70, \\ubcc0\\uc774 \\uc788\\ub2e4\\uace0 \\uc8fc\\uc7a5\\ud558\\uba74 \\ubcc0\\uc774 \\ub0b4\\uc6a9\\uc744 \\ucc3e\\uae30 \\uc5b4\\ub835\\uc2b5\\ub2c8\\ub2e4. \\\\n\\\\n\\ud56d\\ubb38\\uc5f4\\uc1e0 \\uac80\\uc0ac: \\ub9e5\\ucf04 \\uc190\\uac00\\ub77d\\uc5d0\\uc11c \\uc9c1\\uc811 \\uac80\\uc0ac\\ud558\\ub294 \\uac83\\uc774 \\uc5c6\\uc2b5\\ub2c8\\ub2e4. \\ub208\\uc740 \\ubd80\\ud1b5\\uacfc \\ub208\\uc379\\uc774 \\uc5c6\\uc774 \\uccb4\\uc628\\uc774 \\ubcc0\\ud558\\uc9c0 \\uc54a\\uc558\\uc2b5\\ub2c8\\ub2e4. \\uc704\\ubd80\\ud1b5\\uc740 \\uc555\\ucd95\\ub418\\uace0 \\uc788\\uace0 \\ub300\\uc778\\uc18c\\uacac\\uc774 \\uc788\\uc9c0 \\uc54a\\uc2b5\\ub2c8\\ub2e4. \\ubc30\\ub294 \\uc704\\ubd80\\ud1b5\\uacfc \\ub208\\uc379\\uc774 \\uc5c6\\ub294 \\uac83\\uacfc \\uac19\\uc2b5\\ub2c8\\ub2e4. \\uac80\\uc0ac\\ub294? (A) \\ub300\\uc778\\uc18c\\uacac \\ub0b4\\uc7a5\\uc555\\ucd95 \\uac80\\uc0ac  (B) \\ud56d\\ubb38 \\uc18c\\uacac  (C) \\ubcf5\\ubd80 \\uc555\\ucd95 \\uac80\\uc0ac  (D) \\ubcf5\\ubd80 \\ucef4\\ud4e8\\ud130 \\ub2e8\\uce35 \\ucd2c\\uc601  (E) 9mTc pertechnetate technetium scan \\\\nQuestion in English \\n\\nA 1\"\n",
    "\n",
    "decoded_str = input_text.encode('utf-8').decode('unicode_escape')\n",
    "print(decoded_str)"
   ]
  }
 ],
 "metadata": {
  "kernelspec": {
   "display_name": "Python 3 (ipykernel)",
   "language": "python",
   "name": "python3"
  },
  "language_info": {
   "codemirror_mode": {
    "name": "ipython",
    "version": 3
   },
   "file_extension": ".py",
   "mimetype": "text/x-python",
   "name": "python",
   "nbconvert_exporter": "python",
   "pygments_lexer": "ipython3",
   "version": "3.11.10"
  }
 },
 "nbformat": 4,
 "nbformat_minor": 2
}
